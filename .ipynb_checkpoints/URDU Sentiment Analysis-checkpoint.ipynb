{
 "cells": [
  {
   "cell_type": "markdown",
   "metadata": {},
   "source": [
    "# URDU Sentiment Analysis using LSTM Implementation"
   ]
  },
  {
   "cell_type": "code",
   "execution_count": 1,
   "metadata": {},
   "outputs": [],
   "source": [
    "# Import the necesary packages\n",
    "import numpy as np \n",
    "import pandas as pd\n",
    "import matplotlib.pyplot as plt\n",
    "import re\n",
    "from keras.preprocessing.text import Tokenizer\n",
    "from keras_preprocessing.sequence import pad_sequences\n",
    "from keras.models import Sequential\n",
    "from keras.layers import Dense, Embedding, LSTM, SpatialDropout1D\n",
    "from keras.utils.np_utils import to_categorical\n",
    "from keras.callbacks import EarlyStopping\n",
    "from keras.layers import Dropout\n",
    "\n",
    "from keras.constraints import max_norm\n",
    "from sklearn.model_selection import train_test_split\n",
    "from IPython.core.interactiveshell import InteractiveShell\n",
    "# import plotly.figure_factory as ff\n",
    "# InteractiveShell.ast_node_interactivity = 'all'\n",
    "# from plotly.offline import iplot\n",
    "# from PreProcessing import Cleaned_X_Y"
   ]
  },
  {
   "cell_type": "code",
   "execution_count": 2,
   "metadata": {},
   "outputs": [],
   "source": [
    "data = pd.read_csv('datasets/urdu_sentiment.csv')"
   ]
  },
  {
   "cell_type": "code",
   "execution_count": 3,
   "metadata": {},
   "outputs": [
    {
     "data": {
      "text/html": [
       "<div>\n",
       "<style scoped>\n",
       "    .dataframe tbody tr th:only-of-type {\n",
       "        vertical-align: middle;\n",
       "    }\n",
       "\n",
       "    .dataframe tbody tr th {\n",
       "        vertical-align: top;\n",
       "    }\n",
       "\n",
       "    .dataframe thead th {\n",
       "        text-align: right;\n",
       "    }\n",
       "</style>\n",
       "<table border=\"1\" class=\"dataframe\">\n",
       "  <thead>\n",
       "    <tr style=\"text-align: right;\">\n",
       "      <th></th>\n",
       "      <th>sentence</th>\n",
       "      <th>review</th>\n",
       "    </tr>\n",
       "  </thead>\n",
       "  <tbody>\n",
       "    <tr>\n",
       "      <th>0</th>\n",
       "      <td>میں نے ایٹم بم بنایا ھے ۔۔۔۔او بھائی ایٹم بمب ...</td>\n",
       "      <td>positive</td>\n",
       "    </tr>\n",
       "    <tr>\n",
       "      <th>1</th>\n",
       "      <td>چندے سے انقلاب اور عمران خان وزیر اعظم نہیں بن...</td>\n",
       "      <td>positive</td>\n",
       "    </tr>\n",
       "    <tr>\n",
       "      <th>2</th>\n",
       "      <td>ٹویٹر کا خیال کیسے آیا ؟</td>\n",
       "      <td>negative</td>\n",
       "    </tr>\n",
       "    <tr>\n",
       "      <th>3</th>\n",
       "      <td>ابھی تک اسکی لہریں کبھی کبھی آ جاتی ہیں یار :أْ</td>\n",
       "      <td>positive</td>\n",
       "    </tr>\n",
       "    <tr>\n",
       "      <th>4</th>\n",
       "      <td>گندی زبان اور گٹر جیسے دماغ والے جاهل جیالے ه...</td>\n",
       "      <td>negative</td>\n",
       "    </tr>\n",
       "  </tbody>\n",
       "</table>\n",
       "</div>"
      ],
      "text/plain": [
       "                                            sentence    review\n",
       "0  میں نے ایٹم بم بنایا ھے ۔۔۔۔او بھائی ایٹم بمب ...  positive\n",
       "1  چندے سے انقلاب اور عمران خان وزیر اعظم نہیں بن...  positive\n",
       "2                           ٹویٹر کا خیال کیسے آیا ؟  negative\n",
       "3    ابھی تک اسکی لہریں کبھی کبھی آ جاتی ہیں یار :أْ  positive\n",
       "4   گندی زبان اور گٹر جیسے دماغ والے جاهل جیالے ه...  negative"
      ]
     },
     "execution_count": 3,
     "metadata": {},
     "output_type": "execute_result"
    }
   ],
   "source": [
    "data.head()"
   ]
  },
  {
   "cell_type": "code",
   "execution_count": 4,
   "metadata": {},
   "outputs": [
    {
     "name": "stdout",
     "output_type": "stream",
     "text": [
      "0        میں نے ایٹم بم بنایا ھے ۔۔۔۔او بھائی ایٹم بمب ...\n",
      "1        چندے سے انقلاب اور عمران خان وزیر اعظم نہیں بن...\n",
      "2                                 ٹویٹر کا خیال کیسے آیا ؟\n",
      "3          ابھی تک اسکی لہریں کبھی کبھی آ جاتی ہیں یار :أْ\n",
      "4         گندی زبان اور گٹر جیسے دماغ والے جاهل جیالے ه...\n",
      "                               ...                        \n",
      "29594                                                   حس\n",
      "29595                                                   حل\n",
      "29596                                                   سا\n",
      "29597                                                   عز\n",
      "29598                                                   فن\n",
      "Name: sentence, Length: 29599, dtype: object\n"
     ]
    }
   ],
   "source": [
    "X_data = data['sentence']\n",
    "print(X_data)"
   ]
  },
  {
   "cell_type": "code",
   "execution_count": 5,
   "metadata": {},
   "outputs": [],
   "source": [
    "y_data = data['review']\n",
    "print(y_data)"
   ]
  },
  {
   "cell_type": "code",
   "execution_count": 6,
   "metadata": {},
   "outputs": [
    {
     "name": "stdout",
     "output_type": "stream",
     "text": [
      "Data available and its shapes: X : (29599,), Y : (29599,)\n"
     ]
    }
   ],
   "source": [
    "print(\"Data available and its shapes: X : {}, Y : {}\".format(X_data.shape, y_data.shape))"
   ]
  },
  {
   "cell_type": "code",
   "execution_count": 7,
   "metadata": {},
   "outputs": [
    {
     "name": "stdout",
     "output_type": "stream",
     "text": [
      "Total No of Words :  89684\n",
      "Size of the Vocabuary :  22667\n"
     ]
    }
   ],
   "source": [
    "corp = []\n",
    "for sentence in X_data:\n",
    "    corp = corp + sentence.split()\n",
    "print(\"Total No of Words : \", len(corp))\n",
    "print(\"Size of the Vocabuary : \", len(set(corp)))"
   ]
  },
  {
   "cell_type": "code",
   "execution_count": 8,
   "metadata": {},
   "outputs": [],
   "source": [
    "# The maximum number of words to be used. (most frequent)\n",
    "MAX_NB_WORDS = 20000\n",
    "# Max number of words in each complaint.\n",
    "MAX_SEQUENCE_LENGTH = 50\n",
    "# This is fixed.\n",
    "EMBEDDING_DIM = 300"
   ]
  },
  {
   "cell_type": "code",
   "execution_count": 9,
   "metadata": {},
   "outputs": [],
   "source": [
    "tokenizer = Tokenizer(num_words=MAX_NB_WORDS, filters='!\"#$%&()*+,-./:;<=>?@[\\]^_`{|}~', lower=True)"
   ]
  },
  {
   "cell_type": "code",
   "execution_count": 10,
   "metadata": {},
   "outputs": [
    {
     "name": "stdout",
     "output_type": "stream",
     "text": [
      "Found 22515 unique tokens.\n"
     ]
    }
   ],
   "source": [
    "tokenizer = Tokenizer(num_words=MAX_NB_WORDS, filters='!\"#$%&()*+,-./:;<=>?@[\\]^_`{|}~', lower=True)\n",
    "tokenizer.fit_on_texts(X_data)\n",
    "word_index = tokenizer.word_index\n",
    "print('Found %s unique tokens.' % len(word_index))"
   ]
  },
  {
   "cell_type": "code",
   "execution_count": 11,
   "metadata": {},
   "outputs": [
    {
     "name": "stdout",
     "output_type": "stream",
     "text": [
      "Shape of data tensor: (29599, 50)\n"
     ]
    }
   ],
   "source": [
    "X = tokenizer.texts_to_sequences(X_data)\n",
    "X = pad_sequences(X, maxlen=MAX_SEQUENCE_LENGTH)\n",
    "print('Shape of data tensor:', X.shape)"
   ]
  },
  {
   "cell_type": "code",
   "execution_count": 12,
   "metadata": {},
   "outputs": [
    {
     "name": "stdout",
     "output_type": "stream",
     "text": [
      "Shape of label tensor: (29599, 3)\n"
     ]
    }
   ],
   "source": [
    "Y = pd.get_dummies(y_data).values\n",
    "print('Shape of label tensor:', Y.shape)"
   ]
  },
  {
   "cell_type": "code",
   "execution_count": 13,
   "metadata": {},
   "outputs": [
    {
     "name": "stdout",
     "output_type": "stream",
     "text": [
      "(23679, 50) (23679, 3)\n",
      "(5920, 50) (5920, 3)\n"
     ]
    }
   ],
   "source": [
    "# # Train Test Split the data.\n",
    "# X_train, X_test, Y_train, Y_test = train_test_split(X,Y, test_size = 0.2, random_state = 42)\n",
    "# print(X_train.shape,Y_train.shape)\n",
    "# print(X_test.shape,Y_test.shape)"
   ]
  },
  {
   "cell_type": "code",
   "execution_count": 14,
   "metadata": {},
   "outputs": [
    {
     "name": "stdout",
     "output_type": "stream",
     "text": [
      "Model: \"sequential\"\n",
      "_________________________________________________________________\n",
      " Layer (type)                Output Shape              Param #   \n",
      "=================================================================\n",
      " embedding (Embedding)       (None, 50, 300)           6000000   \n",
      "                                                                 \n",
      " spatial_dropout1d (SpatialD  (None, 50, 300)          0         \n",
      " ropout1D)                                                       \n",
      "                                                                 \n",
      " lstm (LSTM)                 (None, 60)                86640     \n",
      "                                                                 \n",
      " dense (Dense)               (None, 3)                 183       \n",
      "                                                                 \n",
      "=================================================================\n",
      "Total params: 6,086,823\n",
      "Trainable params: 6,086,823\n",
      "Non-trainable params: 0\n",
      "_________________________________________________________________\n",
      "None\n"
     ]
    }
   ],
   "source": [
    "# Construct the Model.\n",
    "model = Sequential()\n",
    "model.add(Embedding(MAX_NB_WORDS, EMBEDDING_DIM, input_length=X.shape[1]))\n",
    "model.add(SpatialDropout1D(0.3))\n",
    "model.add(LSTM(60, dropout=0.3, recurrent_dropout=0.3, kernel_constraint=max_norm(3), recurrent_constraint=max_norm(3), bias_constraint=max_norm(3)))\n",
    "model.add(Dense(3, activation='softmax'))\n",
    "model.compile(loss='categorical_crossentropy', optimizer='RMSprop', metrics=['accuracy'])\n",
    "print(model.summary())"
   ]
  },
  {
   "cell_type": "code",
   "execution_count": null,
   "metadata": {},
   "outputs": [],
   "source": [
    "#epochs = 20\n",
    "#batch_size = 64\n",
    "#history = model.fit(X_train, Y_train, epochs=epochs, batch_size=batch_size,validation_split=0.1,callbacks=[EarlyStopping(monitor='val_loss', patience=3, min_delta=0.0001)])"
   ]
  },
  {
   "cell_type": "code",
   "execution_count": 15,
   "metadata": {},
   "outputs": [
    {
     "name": "stdout",
     "output_type": "stream",
     "text": [
      "Epoch 1/20\n",
      "370/370 [==============================] - ETA: 0s - loss: 0.6220 - accuracy: 0.6927WARNING:tensorflow:Early stopping conditioned on metric `val_loss` which is not available. Available metrics are: loss,accuracy\n",
      "370/370 [==============================] - 82s 210ms/step - loss: 0.6220 - accuracy: 0.6927\n",
      "Epoch 2/20\n",
      "370/370 [==============================] - ETA: 0s - loss: 0.5198 - accuracy: 0.7639WARNING:tensorflow:Early stopping conditioned on metric `val_loss` which is not available. Available metrics are: loss,accuracy\n",
      "370/370 [==============================] - 76s 204ms/step - loss: 0.5198 - accuracy: 0.7639\n",
      "Epoch 3/20\n",
      "370/370 [==============================] - ETA: 0s - loss: 0.4251 - accuracy: 0.8194WARNING:tensorflow:Early stopping conditioned on metric `val_loss` which is not available. Available metrics are: loss,accuracy\n",
      "370/370 [==============================] - 74s 199ms/step - loss: 0.4251 - accuracy: 0.8194\n",
      "Epoch 4/20\n",
      "370/370 [==============================] - ETA: 0s - loss: 0.3425 - accuracy: 0.8748WARNING:tensorflow:Early stopping conditioned on metric `val_loss` which is not available. Available metrics are: loss,accuracy\n",
      "370/370 [==============================] - 70s 189ms/step - loss: 0.3425 - accuracy: 0.8748\n",
      "Epoch 5/20\n",
      "370/370 [==============================] - ETA: 0s - loss: 0.2924 - accuracy: 0.8921WARNING:tensorflow:Early stopping conditioned on metric `val_loss` which is not available. Available metrics are: loss,accuracy\n",
      "370/370 [==============================] - 73s 198ms/step - loss: 0.2924 - accuracy: 0.8921\n",
      "Epoch 6/20\n",
      "370/370 [==============================] - ETA: 0s - loss: 0.2637 - accuracy: 0.9009WARNING:tensorflow:Early stopping conditioned on metric `val_loss` which is not available. Available metrics are: loss,accuracy\n",
      "370/370 [==============================] - 83s 224ms/step - loss: 0.2637 - accuracy: 0.9009\n",
      "Epoch 7/20\n",
      "370/370 [==============================] - ETA: 0s - loss: 0.2417 - accuracy: 0.9081WARNING:tensorflow:Early stopping conditioned on metric `val_loss` which is not available. Available metrics are: loss,accuracy\n",
      "370/370 [==============================] - 77s 208ms/step - loss: 0.2417 - accuracy: 0.9081\n",
      "Epoch 8/20\n",
      "370/370 [==============================] - ETA: 0s - loss: 0.2268 - accuracy: 0.9146WARNING:tensorflow:Early stopping conditioned on metric `val_loss` which is not available. Available metrics are: loss,accuracy\n",
      "370/370 [==============================] - 75s 203ms/step - loss: 0.2268 - accuracy: 0.9146\n",
      "Epoch 9/20\n",
      "370/370 [==============================] - ETA: 0s - loss: 0.2145 - accuracy: 0.9194WARNING:tensorflow:Early stopping conditioned on metric `val_loss` which is not available. Available metrics are: loss,accuracy\n",
      "370/370 [==============================] - 77s 207ms/step - loss: 0.2145 - accuracy: 0.9194\n",
      "Epoch 10/20\n",
      "370/370 [==============================] - ETA: 0s - loss: 0.2048 - accuracy: 0.9219WARNING:tensorflow:Early stopping conditioned on metric `val_loss` which is not available. Available metrics are: loss,accuracy\n",
      "370/370 [==============================] - 80s 215ms/step - loss: 0.2048 - accuracy: 0.9219\n",
      "Epoch 11/20\n",
      "370/370 [==============================] - ETA: 0s - loss: 0.1939 - accuracy: 0.9283WARNING:tensorflow:Early stopping conditioned on metric `val_loss` which is not available. Available metrics are: loss,accuracy\n",
      "370/370 [==============================] - 73s 198ms/step - loss: 0.1939 - accuracy: 0.9283\n",
      "Epoch 12/20\n",
      "370/370 [==============================] - ETA: 0s - loss: 0.1855 - accuracy: 0.9312WARNING:tensorflow:Early stopping conditioned on metric `val_loss` which is not available. Available metrics are: loss,accuracy\n",
      "370/370 [==============================] - 75s 204ms/step - loss: 0.1855 - accuracy: 0.9312\n",
      "Epoch 13/20\n",
      "370/370 [==============================] - ETA: 0s - loss: 0.1764 - accuracy: 0.9344WARNING:tensorflow:Early stopping conditioned on metric `val_loss` which is not available. Available metrics are: loss,accuracy\n",
      "370/370 [==============================] - 75s 202ms/step - loss: 0.1764 - accuracy: 0.9344\n",
      "Epoch 14/20\n",
      "370/370 [==============================] - ETA: 0s - loss: 0.1691 - accuracy: 0.9362WARNING:tensorflow:Early stopping conditioned on metric `val_loss` which is not available. Available metrics are: loss,accuracy\n",
      "370/370 [==============================] - 78s 210ms/step - loss: 0.1691 - accuracy: 0.9362\n",
      "Epoch 15/20\n",
      "370/370 [==============================] - ETA: 0s - loss: 0.1607 - accuracy: 0.9395WARNING:tensorflow:Early stopping conditioned on metric `val_loss` which is not available. Available metrics are: loss,accuracy\n",
      "370/370 [==============================] - 78s 209ms/step - loss: 0.1607 - accuracy: 0.9395\n",
      "Epoch 16/20\n",
      "370/370 [==============================] - ETA: 0s - loss: 0.1573 - accuracy: 0.9409WARNING:tensorflow:Early stopping conditioned on metric `val_loss` which is not available. Available metrics are: loss,accuracy\n",
      "370/370 [==============================] - 74s 200ms/step - loss: 0.1573 - accuracy: 0.9409\n",
      "Epoch 17/20\n",
      "370/370 [==============================] - ETA: 0s - loss: 0.1508 - accuracy: 0.9434WARNING:tensorflow:Early stopping conditioned on metric `val_loss` which is not available. Available metrics are: loss,accuracy\n",
      "370/370 [==============================] - 75s 204ms/step - loss: 0.1508 - accuracy: 0.9434\n",
      "Epoch 18/20\n",
      "370/370 [==============================] - ETA: 0s - loss: 0.1449 - accuracy: 0.9444WARNING:tensorflow:Early stopping conditioned on metric `val_loss` which is not available. Available metrics are: loss,accuracy\n",
      "370/370 [==============================] - 72s 195ms/step - loss: 0.1449 - accuracy: 0.9444\n",
      "Epoch 19/20\n",
      "370/370 [==============================] - ETA: 0s - loss: 0.1392 - accuracy: 0.9455WARNING:tensorflow:Early stopping conditioned on metric `val_loss` which is not available. Available metrics are: loss,accuracy\n",
      "370/370 [==============================] - 72s 196ms/step - loss: 0.1392 - accuracy: 0.9455\n",
      "Epoch 20/20\n",
      "370/370 [==============================] - ETA: 0s - loss: 0.1349 - accuracy: 0.9469WARNING:tensorflow:Early stopping conditioned on metric `val_loss` which is not available. Available metrics are: loss,accuracy\n",
      "370/370 [==============================] - 72s 195ms/step - loss: 0.1349 - accuracy: 0.9469\n"
     ]
    }
   ],
   "source": [
    "X_train, X_test, Y_train, Y_test = train_test_split(X,Y, test_size = 0.2, random_state = 42)\n",
    "batch_size=64\n",
    "history = model.fit(X_train, Y_train, epochs = 20, batch_size=batch_size, verbose = 'auto',callbacks=[EarlyStopping(monitor='val_loss', patience=3, min_delta=0.0001)])"
   ]
  },
  {
   "cell_type": "code",
   "execution_count": 16,
   "metadata": {},
   "outputs": [
    {
     "name": "stdout",
     "output_type": "stream",
     "text": [
      "185/185 [==============================] - 4s 20ms/step - loss: 0.8054 - accuracy: 0.6017\n"
     ]
    },
    {
     "data": {
      "text/plain": [
       "[0.8054470419883728, 0.6016891598701477]"
      ]
     },
     "execution_count": 16,
     "metadata": {},
     "output_type": "execute_result"
    }
   ],
   "source": [
    "# model.evaluate(X_test,Y_test)"
   ]
  },
  {
   "cell_type": "code",
   "execution_count": 17,
   "metadata": {
    "scrolled": true
   },
   "outputs": [
    {
     "name": "stdout",
     "output_type": "stream",
     "text": [
      "185/185 [==============================] - 4s 21ms/step - loss: 0.8054 - accuracy: 0.6017\n",
      "Test set\n",
      "  Loss: 0.805\n",
      "  Accuracy: 0.602\n"
     ]
    }
   ],
   "source": [
    "# Evaluate the Model Accuracy on the Test data. \n",
    "accr = model.evaluate(X_test,Y_test)\n",
    "print('Test set\\n  Loss: {:0.3f}\\n  Accuracy: {:0.3f}'.format(accr[0],accr[1]))"
   ]
  },
  {
   "cell_type": "code",
   "execution_count": 26,
   "metadata": {},
   "outputs": [
    {
     "data": {
      "text/plain": [
       "{'loss': [0.6220227479934692,\n",
       "  0.5197972059249878,\n",
       "  0.4251236915588379,\n",
       "  0.3425152003765106,\n",
       "  0.29239803552627563,\n",
       "  0.26367759704589844,\n",
       "  0.24168841540813446,\n",
       "  0.22682137787342072,\n",
       "  0.214532732963562,\n",
       "  0.20480243861675262,\n",
       "  0.19394424557685852,\n",
       "  0.18550856411457062,\n",
       "  0.17639325559139252,\n",
       "  0.16912361979484558,\n",
       "  0.16069692373275757,\n",
       "  0.15730173885822296,\n",
       "  0.15079249441623688,\n",
       "  0.1449204832315445,\n",
       "  0.13919192552566528,\n",
       "  0.13493409752845764],\n",
       " 'accuracy': [0.6927235126495361,\n",
       "  0.7638835906982422,\n",
       "  0.8193758130073547,\n",
       "  0.8748257756233215,\n",
       "  0.8920984864234924,\n",
       "  0.9008826613426208,\n",
       "  0.9081464409828186,\n",
       "  0.9145656228065491,\n",
       "  0.9193800687789917,\n",
       "  0.9218717217445374,\n",
       "  0.9282909035682678,\n",
       "  0.9312048554420471,\n",
       "  0.9344144463539124,\n",
       "  0.9361881613731384,\n",
       "  0.9395244717597961,\n",
       "  0.9408758878707886,\n",
       "  0.9433675408363342,\n",
       "  0.9444233179092407,\n",
       "  0.945521354675293,\n",
       "  0.9468727707862854]}"
      ]
     },
     "execution_count": 26,
     "metadata": {},
     "output_type": "execute_result"
    }
   ],
   "source": [
    "history.history"
   ]
  },
  {
   "cell_type": "code",
   "execution_count": 22,
   "metadata": {},
   "outputs": [
    {
     "data": {
      "image/png": "[encoded data removed]",
      "text/plain": [
       "<Figure size 640x480 with 1 Axes>"
      ]
     },
     "metadata": {},
     "output_type": "display_data"
    }
   ],
   "source": [
    "# Training vs Validation Loss Function\n",
    "plt.title('Loss')\n",
    "plt.plot(history.history['loss'], label='train')\n",
    "plt.plot(history.history['val_loss'], label='test')\n",
    "plt.legend()\n",
    "plt.show();"
   ]
  },
  {
   "cell_type": "code",
   "execution_count": 24,
   "metadata": {},
   "outputs": [
    {
     "data": {
      "image/png": "[encoded data removed]",
      "text/plain": [
       "<Figure size 640x480 with 1 Axes>"
      ]
     },
     "metadata": {},
     "output_type": "display_data"
    }
   ],
   "source": [
    "# Training vs Validation Accuracy\n",
    "plt.title('Accuracy')\n",
    "plt.plot(history.history['accuracy'], label='train')\n",
    "plt.plot(history.history['val_accuracy'], label='test')\n",
    "plt.legend()\n",
    "plt.show();"
   ]
  },
  {
   "cell_type": "code",
   "execution_count": 39,
   "metadata": {},
   "outputs": [
    {
     "name": "stdout",
     "output_type": "stream",
     "text": [
      "1/1 [==============================] - 0s 334ms/step\n",
      "[[0.9531442  0.01438282 0.032473  ]] Negative\n"
     ]
    }
   ],
   "source": [
    "new_complaint = ['میرے دوست گولی باز ہیں']\n",
    "seq = tokenizer.texts_to_sequences(new_complaint)\n",
    "padded = pad_sequences(seq, maxlen=MAX_SEQUENCE_LENGTH)\n",
    "pred = model.predict(padded)\n",
    "labels = ['Negative','Neutral','Positive']\n",
    "print(pred, labels[np.argmax(pred)])\n",
    "from keras.models import load_model\n"
   ]
  },
  {
   "cell_type": "code",
   "execution_count": 30,
   "metadata": {},
   "outputs": [],
   "source": [
    "from keras.models import load_model\n",
    "model.save('saved_models/urdu_tts_0.2_vlos_0.80_acc_0.600.h5')  # creates a HDF5 file 'my_model.h5'"
   ]
  },
  {
   "cell_type": "code",
   "execution_count": 35,
   "metadata": {},
   "outputs": [
    {
     "name": "stdout",
     "output_type": "stream",
     "text": [
      "1/1 [==============================] - 0s 430ms/step\n",
      "[[0.46466157 0.14015771 0.39518067]] Negative\n"
     ]
    }
   ],
   "source": [
    "model_loaded = load_model('saved_models/urdu_tts_0.2_vlos_0.80_acc_0.600.h5')\n",
    "new_complaint = ['وہ میرا دشمن ہے']\n",
    "seq = tokenizer.texts_to_sequences(new_complaint)\n",
    "padded = pad_sequences(seq, maxlen=MAX_SEQUENCE_LENGTH)\n",
    "pred = model_loaded.predict(padded)\n",
    "labels = ['Negative','Neutral','Positive']\n",
    "print(pred, labels[np.argmax(pred)])"
   ]
  },
  {
   "cell_type": "code",
   "execution_count": 32,
   "metadata": {},
   "outputs": [
    {
     "name": "stdout",
     "output_type": "stream",
     "text": [
      "INFO:tensorflow:Assets written to: urdu_tts_0.2_vlos_0.80_acc_0.600.tflite\\assets\n"
     ]
    }
   ],
   "source": [
    "# model.save('urdu_tts_0.2_vlos_0.80_acc_0.600.tflite')  # creates a HDF5 file 'my_model.h5'\n",
    "# del model  # deletes the existing model"
   ]
  },
  {
   "cell_type": "code",
   "execution_count": 37,
   "metadata": {},
   "outputs": [],
   "source": [
    "# returns a compiled model\n",
    "# identical to the previous one\n",
    "# model = load_model('urdu_tts_0.2_vlos_0.80_acc_0.600.tflite')"
   ]
  },
  {
   "cell_type": "code",
   "execution_count": 38,
   "metadata": {},
   "outputs": [
    {
     "name": "stdout",
     "output_type": "stream",
     "text": [
      "1/1 [==============================] - 0s 33ms/step\n",
      "[[0.81849647 0.1660923  0.01541126]] Negative\n"
     ]
    }
   ],
   "source": [
    "# new_complaint = ['وہ میرا دشمن ہے']\n",
    "# seq = tokenizer.texts_to_sequences(new_complaint)\n",
    "# padded = pad_sequences(seq, maxlen=MAX_SEQUENCE_LENGTH)\n",
    "# pred = model_loaded.predict(padded)\n",
    "# labels = ['Negative','Neutral','Positive']\n",
    "# print(pred, labels[np.argmax(pred)])"
   ]
  }
 ],
 "metadata": {
  "kernelspec": {
   "display_name": "Python 3 (ipykernel)",
   "language": "python",
   "name": "python3"
  },
  "language_info": {
   "codemirror_mode": {
    "name": "ipython",
    "version": 3
   },
   "file_extension": ".py",
   "mimetype": "text/x-python",
   "name": "python",
   "nbconvert_exporter": "python",
   "pygments_lexer": "ipython3",
   "version": "3.10.6"
  }
 },
 "nbformat": 4,
 "nbformat_minor": 4
}
